{
 "cells": [
  {
   "cell_type": "code",
   "execution_count": null,
   "metadata": {
    "colab": {
     "base_uri": "https://localhost:8080/"
    },
    "id": "3fF84AuJG2gE",
    "outputId": "421fa8c7-189e-4242-cb8c-804f9a70cb89"
   },
   "outputs": [
    {
     "name": "stdout",
     "output_type": "stream",
     "text": [
      "  Preparing metadata (setup.py) ... \u001b[?25l\u001b[?25hdone\n",
      "\u001b[2K   \u001b[90m━━━━━━━━━━━━━━━━━━━━━━━━━━━━━━━━━━━━━━━━\u001b[0m \u001b[32m363.4/363.4 MB\u001b[0m \u001b[31m3.8 MB/s\u001b[0m eta \u001b[36m0:00:00\u001b[0m\n",
      "\u001b[2K   \u001b[90m━━━━━━━━━━━━━━━━━━━━━━━━━━━━━━━━━━━━━━━━\u001b[0m \u001b[32m13.8/13.8 MB\u001b[0m \u001b[31m35.1 MB/s\u001b[0m eta \u001b[36m0:00:00\u001b[0m\n",
      "\u001b[2K   \u001b[90m━━━━━━━━━━━━━━━━━━━━━━━━━━━━━━━━━━━━━━━━\u001b[0m \u001b[32m24.6/24.6 MB\u001b[0m \u001b[31m26.9 MB/s\u001b[0m eta \u001b[36m0:00:00\u001b[0m\n",
      "\u001b[2K   \u001b[90m━━━━━━━━━━━━━━━━━━━━━━━━━━━━━━━━━━━━━━━━\u001b[0m \u001b[32m883.7/883.7 kB\u001b[0m \u001b[31m31.7 MB/s\u001b[0m eta \u001b[36m0:00:00\u001b[0m\n",
      "\u001b[2K   \u001b[90m━━━━━━━━━━━━━━━━━━━━━━━━━━━━━━━━━━━━━━━━\u001b[0m \u001b[32m664.8/664.8 MB\u001b[0m \u001b[31m3.0 MB/s\u001b[0m eta \u001b[36m0:00:00\u001b[0m\n",
      "\u001b[2K   \u001b[90m━━━━━━━━━━━━━━━━━━━━━━━━━━━━━━━━━━━━━━━━\u001b[0m \u001b[32m211.5/211.5 MB\u001b[0m \u001b[31m5.0 MB/s\u001b[0m eta \u001b[36m0:00:00\u001b[0m\n",
      "\u001b[2K   \u001b[90m━━━━━━━━━━━━━━━━━━━━━━━━━━━━━━━━━━━━━━━━\u001b[0m \u001b[32m56.3/56.3 MB\u001b[0m \u001b[31m11.4 MB/s\u001b[0m eta \u001b[36m0:00:00\u001b[0m\n",
      "\u001b[2K   \u001b[90m━━━━━━━━━━━━━━━━━━━━━━━━━━━━━━━━━━━━━━━━\u001b[0m \u001b[32m127.9/127.9 MB\u001b[0m \u001b[31m7.4 MB/s\u001b[0m eta \u001b[36m0:00:00\u001b[0m\n",
      "\u001b[2K   \u001b[90m━━━━━━━━━━━━━━━━━━━━━━━━━━━━━━━━━━━━━━━━\u001b[0m \u001b[32m207.5/207.5 MB\u001b[0m \u001b[31m7.1 MB/s\u001b[0m eta \u001b[36m0:00:00\u001b[0m\n",
      "\u001b[2K   \u001b[90m━━━━━━━━━━━━━━━━━━━━━━━━━━━━━━━━━━━━━━━━\u001b[0m \u001b[32m21.1/21.1 MB\u001b[0m \u001b[31m59.6 MB/s\u001b[0m eta \u001b[36m0:00:00\u001b[0m\n",
      "\u001b[?25h  Building wheel for rouge-score (setup.py) ... \u001b[?25l\u001b[?25hdone\n"
     ]
    }
   ],
   "source": [
    "!pip install -q torch transformers rouge-score sentence-transformers datasets huggingface-hub\n",
    "\n",
    "from transformers import pipeline\n",
    "from rouge_score import rouge_scorer\n",
    "import pandas as pd\n",
    "\n"
   ]
  },
  {
   "cell_type": "code",
   "execution_count": null,
   "metadata": {
    "colab": {
     "base_uri": "https://localhost:8080/",
     "height": 385,
     "referenced_widgets": [
      "6e235c137a174774963bc34239ed2759",
      "e58ec6cdd2c94aa598ad7239bf72529d",
      "62273e51f4bd4663b7fe1fd57bdab035",
      "0eb3b92f37d34d0a85f69c0453d105d1",
      "3ede92c571494bc6abd9d2ed314c76db",
      "7c24b8ad7ffa4bb4b330259a170168f4",
      "44f90bdae25c4086a4ff6d41646c2eaf",
      "bbbb76678037499bb1ff3428c994349c",
      "7d7acaa37b984a678e584693c5cff5ea",
      "8e7e61b702234a1c97b6bcabaf613366",
      "2a1c56a5b98b46699d243806efcb6c32",
      "da234ce5d0764b8ba3dba6c9c551c31e",
      "8aa97466d8d94a659351a2cfd5c4a5c4",
      "bbcf72df062a42949378ce00baa90cc5",
      "ae67b0dfba804f6db82138d8597b0e5b",
      "8ebc09bb93474249855504475d921801",
      "a1b3856ec58f484f85404f0f480b27f0",
      "2cef123ab8cd4551987c8a0814cbe429",
      "5245827be2c54b6cbd772876a92e7798",
      "90d1f0a5eb8a4d26946f17e7558ccb1b",
      "4f9d49ea4c19494e90aba5ec89435ffd",
      "0a4b554c46234917aae05f99088bcda9",
      "0971e6b0fb2d402987c2b15ce2ed60ff",
      "90d93a06cb10468aafc5e60adc482cbe",
      "2f2a9de3cf6544cfa398af7c92845994",
      "417c93186b4b453e891c6314b87a4a0b",
      "cfcaa565df7446c3b02f953b7ff38df1",
      "b32f70514f7c43a9803e78334adac181",
      "7f8cefd01a97461bbf3564c6a9b4d054",
      "f352aa4c564042a6b2cf196ea41e6781",
      "38e2a380b876453cbde88e16263b1ee2",
      "b6b5d70fd94b437a813e66506c07c197",
      "9f66bab99fab48278efe2a4f77df5e1a",
      "dedf8289baa641a68a4f86493087e0d0",
      "b4a759ce0e83474bb7cbc095ce488bc9",
      "b06e4fd05d94447da4b278e795b67b0b",
      "373aeeee95a74eb988edec2002132f4c",
      "0d9bf1ee177f4a22a3c35e304819b9e3",
      "364e19bb5dcb43caa5e41f388a823d60",
      "2b5352316ecd44358f4d10ee57c39b56",
      "8e51aa80e1754fd3a24d9401ebe6f58c",
      "f00b9aad63ef44e9961c2fe965b1a6d7",
      "0469156299ed4f47ba732db023d050b3",
      "9a90d147dbae46448935d30383f2784d",
      "b54f75707d024c6ab9ec4a717800bd7c",
      "2f17d2fe68cb42498b081765cbf84bf0",
      "b67d26c7ec8345f0aad0c61993e6e9de",
      "3d776e709e2548cebf14de5515d53d4c",
      "b5db5f03d633472884d0895e90f28c28",
      "64f87140baa945079a174d36b7618a31",
      "9a5dd53fd3614beeb430662fae57326a",
      "f07dcbd26e0246acbac35bb14d6f8adb",
      "92bca41ffda04f868270b00763e36b8f",
      "6b6cd3b79f4c4ba79b0b4965b1b642f4",
      "951dae4b21814b93ba40e383e8e20c52",
      "2a5e7790aa934362a6d83a64bdd6b846",
      "2fffa7add6f04c50bfdf63fd9ee6d397",
      "c1c9a453d68a435dbd0bb34cdf2a186a",
      "6a0ac50b56294332b64eb29a10b8b21e",
      "7b70f7ca39a44f9bb857f47b3f6ff2eb",
      "b8f3fac2434b4598a1fb82144f9f7cb3",
      "a4cb501237b749f3b80c7d92b952e020",
      "65db2364c5754f1698a16b9eead04859",
      "508601d108774ce1b156f3e6097542e9",
      "04ce966f9f8d46ada21fbef7dca5e6ac",
      "c7e94bdbc23048ce8117207173b26092"
     ]
    },
    "id": "9Qato_ieR-HD",
    "outputId": "2ae238b0-5630-4a04-916a-420bcc7630cc"
   },
   "outputs": [
    {
     "name": "stderr",
     "output_type": "stream",
     "text": [
      "/usr/local/lib/python3.11/dist-packages/huggingface_hub/utils/_auth.py:94: UserWarning: \n",
      "The secret `HF_TOKEN` does not exist in your Colab secrets.\n",
      "To authenticate with the Hugging Face Hub, create a token in your settings tab (https://huggingface.co/settings/tokens), set it as secret in your Google Colab and restart your session.\n",
      "You will be able to reuse this secret in all of your notebooks.\n",
      "Please note that authentication is recommended but still optional to access public models or datasets.\n",
      "  warnings.warn(\n"
     ]
    },
    {
     "data": {
      "application/vnd.jupyter.widget-view+json": {
       "model_id": "6e235c137a174774963bc34239ed2759",
       "version_major": 2,
       "version_minor": 0
      },
      "text/plain": [
       "config.json:   0%|          | 0.00/1.58k [00:00<?, ?B/s]"
      ]
     },
     "metadata": {},
     "output_type": "display_data"
    },
    {
     "name": "stderr",
     "output_type": "stream",
     "text": [
      "Xet Storage is enabled for this repo, but the 'hf_xet' package is not installed. Falling back to regular HTTP download. For better performance, install the package with: `pip install huggingface_hub[hf_xet]` or `pip install hf_xet`\n",
      "WARNING:huggingface_hub.file_download:Xet Storage is enabled for this repo, but the 'hf_xet' package is not installed. Falling back to regular HTTP download. For better performance, install the package with: `pip install huggingface_hub[hf_xet]` or `pip install hf_xet`\n"
     ]
    },
    {
     "data": {
      "application/vnd.jupyter.widget-view+json": {
       "model_id": "da234ce5d0764b8ba3dba6c9c551c31e",
       "version_major": 2,
       "version_minor": 0
      },
      "text/plain": [
       "model.safetensors:   0%|          | 0.00/1.63G [00:00<?, ?B/s]"
      ]
     },
     "metadata": {},
     "output_type": "display_data"
    },
    {
     "data": {
      "application/vnd.jupyter.widget-view+json": {
       "model_id": "0971e6b0fb2d402987c2b15ce2ed60ff",
       "version_major": 2,
       "version_minor": 0
      },
      "text/plain": [
       "generation_config.json:   0%|          | 0.00/363 [00:00<?, ?B/s]"
      ]
     },
     "metadata": {},
     "output_type": "display_data"
    },
    {
     "data": {
      "application/vnd.jupyter.widget-view+json": {
       "model_id": "dedf8289baa641a68a4f86493087e0d0",
       "version_major": 2,
       "version_minor": 0
      },
      "text/plain": [
       "vocab.json:   0%|          | 0.00/899k [00:00<?, ?B/s]"
      ]
     },
     "metadata": {},
     "output_type": "display_data"
    },
    {
     "data": {
      "application/vnd.jupyter.widget-view+json": {
       "model_id": "b54f75707d024c6ab9ec4a717800bd7c",
       "version_major": 2,
       "version_minor": 0
      },
      "text/plain": [
       "merges.txt:   0%|          | 0.00/456k [00:00<?, ?B/s]"
      ]
     },
     "metadata": {},
     "output_type": "display_data"
    },
    {
     "data": {
      "application/vnd.jupyter.widget-view+json": {
       "model_id": "2a5e7790aa934362a6d83a64bdd6b846",
       "version_major": 2,
       "version_minor": 0
      },
      "text/plain": [
       "tokenizer.json:   0%|          | 0.00/1.36M [00:00<?, ?B/s]"
      ]
     },
     "metadata": {},
     "output_type": "display_data"
    },
    {
     "name": "stderr",
     "output_type": "stream",
     "text": [
      "Device set to use cpu\n"
     ]
    }
   ],
   "source": [
    "# Load summarization model\n",
    "summarizer = pipeline(\"summarization\", model=\"facebook/bart-large-cnn\")\n",
    "\n",
    "# Initialize ROUGE scorer\n",
    "scorer = rouge_scorer.RougeScorer([\"rouge1\", \"rouge2\", \"rougeL\"], use_stemmer=True)\n"
   ]
  },
  {
   "cell_type": "code",
   "execution_count": null,
   "metadata": {
    "colab": {
     "base_uri": "https://localhost:8080/"
    },
    "id": "H6FaBf_MSDHP",
    "outputId": "4a23a1cc-8a49-450d-ed5d-e74388388b99"
   },
   "outputs": [
    {
     "name": "stdout",
     "output_type": "stream",
     "text": [
      "Please paste 5 long news articles one by one. After pasting each article, type 'END' on a new line.\n",
      "\n",
      "Paste article #1:\n",
      "Nvidia will launch a new artificial intelligence chipset for China at a significantly lower price than its recently restricted H20 model and plans to start mass production as early as June, sources familiar with the matter said.  The GPU or graphics processing unit will be part of Nvidia’s latest generation Blackwell-architecture AI processors and is expected to be priced between $6,500 and $8,000, well below the $10,000-$12,000 the H20 sold for, according to two of the sources.  The lower price reflects its weaker specifications and simpler manufacturing requirements.  It will be based on Nvidia’s RTX Pro 6000D, a server-class graphics processor and will use conventional GDDR7 memory instead of more advanced high bandwidth memory, the two sources said. The new chip’s price, specifications and production timing have not previously been reported.  The three sources Reuters spoke to for this article declined to be identified as they were not authorised to speak to media.  An Nvidia spokesperson said the company was still evaluating its “limited” options. “Until we settle on a new product design and receive approval from the U.S. government, we are effectively foreclosed from China’s $50 billion data center market.”  TSMC declined to comment.  Market share plunge China remains a huge market for Nvidia, accounting for 13% of its sales in the past financial year. It’s the third time that Nvidia has had to tailor a GPU for the world’s second-largest economy after restrictions from U.S. authorities who are keen to stymie Chinese technological development.  After the U.S. effectively banned the H20 in April, Nvidia initially considered developing a downgraded version of the H20 for China, sources have said, but that plan didn’t work out.  Nvidia CEO Jensen Huang said last week the company’s older Hopper architecture – which the H20 uses – can no longer accommodate further modifications under current U.S. export restrictions.  Reuters was unable to determine the product’s final name.  Chinese brokerage GF Securities said in a note published on Tuesday that the new GPU would likely be called the 6000D or the B40, though it did not disclose pricing or cite sources for the information.  According to two of the sources, Nvidia is also developing another Blackwell-architecture chip for China that is set to begin production as early as September. Reuters was not immediately able to confirm specifications of that variant.  Nvidia’s market share in China has plummeted from 95% before 2022, when U.S. export curbs that impacted its products began, to 50% currently, Huang told reporters in Taipei this week. Its main competitor is Huawei which produces the Ascend 910B chip.  Huang also warned that if U.S. export curbs continue, more Chinese customers will buy Huawei’s chips.  The H20 ban forced Nvidia to write off $5.5 billion in inventory and Huang told the Stratechery podcast on Monday that the company also had to walk away from $15 billion in sales.  The latest export restrictions introduced new limits on GPU memory bandwidth – a crucial metric measuring data transmission speeds between the main processor and memory chips. This capability is particularly important for AI workloads that require extensive data processing.  Investment bank Jefferies estimates that the new regulations cap memory bandwidth at 1.7-1.8 terabytes per second. That compares with the 4 terabytes per second that the H20 is capable of.  GF Securities forecast the new GPU will achieve approximately 1.7 terabytes per second using GDDR7 memory technology, just within the export control limits.\n",
      "END\n",
      "\n",
      "Paste article #2:\n",
      "Two weeks after a deadly militant attack on tourists in Indian-administered Kashmir, India has launched a series of strikes on sites in Pakistan and Pakistan-administered Kashmir. The Indian defence ministry said the strikes - named \"Operation Sindoor\" - were part of a \"commitment\" to hold \"accountable\" those responsible for the 22 April attack in Pahalgam, Indian-administered Kashmir, which left 25 Indians and one Nepali national dead. But Pakistan, which has denied any involvement in that attack, described the strikes as \"unprovoked\", with Prime Minister Shehbaz Sharif saying the \"heinous act of aggression will not go unpunished\". Sharif on Wednesday said the Pahalgam attack \"wasn't related\" to Pakistan, and that his country was \"accused for the wrong\" reasons. Pakistan's military said at least 31 people were killed and 57 injured in the strikes on Tuesday night. India's army said at least 15 civilians were killed and 43 injured by Pakistani shelling on its side of the de facto border. Pakistan's military says it shot down five Indian aircraft and a drone. India has yet to respond to these claims. Late on Wednesday, Sharif said the air force made its defence - which was a \"reply from our side to them\". The strikes come after weeks of rising tension between the nuclear-armed neighbours over the shootings in the picturesque resort town of Pahalgam. The 22 April attack by a group of militants saw 26 people killed, with survivors saying the militants were singling out Hindu men. It was the worst attack on civilians in the region in two decades, and the first major attack on civilians since India revoked Article 370, which gave Kashmir semi-autonomous status, in 2019. Following the decision, the region saw protests but also witnessed militancy wane and a huge increase in the number of tourists. The killings have sparked widespread anger in India, with Prime Minister Narendra Modi saying the country would hunt the suspects \"till the ends of the Earth\" and that those who planned and carried it out \"will be punished beyond their imagination\". However, India initially did not name any group it believed was behind the attack in Pahalgam. But Indian police alleged that two of the attackers were Pakistani nationals, with Delhi accusing Pakistan of supporting militants - a charge Islamabad denies. It says it has nothing to do with the 22 April attacks. On 7 May, Indian Foreign Secretary Vikram Misri said Pakistan-based Lashkar-e-Taiba militant group carried out the attack. In the two weeks since, both sides had taken tit-for-tat measures against each other - including expelling diplomats, suspending visas and closing border crossings. But many expected it would escalate to some sort of cross-border strike - as seen after the Pulwama attacks which left 40 Indian paramilitary personnel dead in 2019. Why is Kashmir a flashpoint between India and Pakistan? Kashmir is claimed in full by India and Pakistan, but administered only in part by each since they were partitioned following independence from Britain in 1947. The countries have fought two wars over it. But more recently, it has been attacks by militants which have brought the two countries to the brink. Indian-administered Kashmir has seen an armed insurgency against Indian rule since 1989, with militants targeting security forces and civilians alike. In 2016, after 19 Indian soldiers were killed in Uri, India launched \"surgical strikes\" across the Line of Control – the de facto border between India and Pakistan - targeting militant bases. In 2019, the Pulwama bombing, which left 40 Indian paramilitary personnel dead, prompted airstrikes deep into Balakot - the first such action inside Pakistan since 1971 - sparking retaliatory raids and an aerial dogfight. Neither spiralled, but the wider world remains alert to the danger of what could happen if it did. Attempts have been made by various nations and diplomats around the world to prevent this. UN Secretary-General António Guterres quickly called for \"maximum restraint\" - a sentiment echoed by the European Union and numerous countries, including Bangladesh. British Prime Minister Keir Starmer urged \"dialogue\" and \"de-escalation\". US President Donald Trump - who was one of the first to respond - told reporters at the White House that he hoped the fighting \"ends very quickly\". US Secretary of State Marco Rubio, meanwhile, said he was keeping a close eye on developments.\n",
      "END\n",
      "\n",
      "Paste article #3:\n",
      "Boulter rewarded for clay-court perseverance Learning how to play on the tricky clay surface has never come easy to Boulter. Most British players have historically not grown up playing on the surface and Boulter - who became the nation's leading women's player almost two years ago - has never had a great deal of exposure on the red dirt. As a result she struggled with the fluidity and trust in her movement - a necessary skill to thrive on clay. Boulter only made her debut at Roland Garros last year, despite being seeded as a result of her ability on hard and grass courts. To her great credit, she has continued to persist in her efforts to improve. In the build-up to the Paris major, she dropped down to the second-tier of the WTA Tour and was rewarded with a maiden clay title in the French capital. A first-round draw against Monnet - a 23-year-old wildcard ranked 193 places below her - could not have been a better opportunity to earn a Roland Garros win. It was not all plain-sailing. But Boulter started to play more freely after a scrappy start and her greater quality was too much for her inexperienced opponent. Afterwards, Boulter said she did not think her below-par start was down to feeling any pressure of landing that elusive French Open win. \"Obviously that does mean a fair bit to me,\" she added. \"But I think because I played so well last week and I started building a lot of momentum, ultimately I start putting more pressure on myself. \"I think that's where a bit of experience showed today, because I dug in in the biggest moments, especially in the start of both sets. \"That gave me a lot of confidence just to kind of keep going for my shots. It allowed me to close the door.\" Fearnley keeps cool to silence crowd Fearnley was only three years old when Switzerland's Wawrinka made his French Open debut in 2005, but had the benefit of youthful vitality - if not clay-court experience - over the three-time major winner. Wawrinka beat Novak Djokovic to lift the trophy in Paris ten years ago but has since dropped to 138th in the world rankings. Fearnley, meanwhile, had never played an ATP Tour match on clay before this year. The 23-year-old from Edinburgh was ranked outside of the world's top 500 just 12 months ago but has risen rapidly up the rankings to a career-high of 55. After clinching the opening set via a tie-break, Fearnley broke early in the second and raced out to a 4-1 lead before serving the set out to love. Wawrinka, who knocked Andy Murray out in the first round last year, dropped serve immediately in the third set but fought back to move level at 2-2 - much to the delight of the crowd on court 14. Their joy was short-lived as Fearnley quickly restored his lead and won four straight games to wrap up victory. On overcoming the pro-Wawrinka crowd, Fearnley said: \"There were a lot of guys talking to me. It was mostly in French. They could have been saying nice things, but I doubt it.\" Fearnley has now won on his main draw debut at each of the three Grand Slams he has featured at so far - Wimbledon, the Australian Open and Roland Garros. He will face French 22nd seed Ugo Humbert, who beat Australia's Christopher O'Connell, in the second round.\n",
      "END\n",
      "\n",
      "Paste article #4:\n",
      "Aged 31, a natural disaster marked the turning point for Mr Prajapati. The devastating earthquake that hit Gujarat in 2001 destroyed his family home and left a pile of smashed clay pots in the courtyard. \"A local reporter wrote that 'the poor people's fridge is broken',\" Mr Prajapati says. \"Clay pots keep water cool in the summer, so they are just like a fridge. The thought got stuck in my head. So, I decided to make a fridge out of clay that doesn't need electricity.\" With no formal training, Mr Prajapati started experimenting with designs and materials. \"I first tried to make it like the modern fridge and even added a water tank, but nothing worked', he says. \"At one point I had $22,000 (£17,000) in loans and had to sell my house and small workshop. But I knew I had to keep going.\" It took four years of tinkering to come up with a design that worked - a small clay cabinet with a water talk on the top and storage shelves below. As water trickles through the cabinet's porous clay walls, it naturally cools the interior. Mr Prajapati says it can keep fruit and vegetables fresh for at least five days - no electricity needed. He named it MittiCool or the clay that stays cool. At $95 its affordable and now sold through 300 stores in India and exported to countries including the UK, Kenya, and UAE. \"Fridges are a dream for many poor families,\" Mr Prajapati says. \"And such dreams should be within reach.\" Mr Prajapati's innovation is part of a growing wave of grassroots entrepreneurship in India, driven by necessity. Prof Anil Gupta who runs the Honeybee Network, a platform for supporting such ventures, call these \"frugal innovations\". \"It is a mindset,\" says Prof Gupta. \"Frugal innovation is about making solutions affordable, accessible, and available. Many of these innovators don't have formal education but are solving real world problems.\" It's difficult to put a number on such businesses, as there has never been an in-depth study. Prof Gupta says such start-ups are crucial because they provide jobs in rural areas and start a cycle of economic change. For example, Mr Prajapati now employs 150 people in his workshop and has branched out into cookware, clay water filters and is experimenting with homes made of clay. Another start-up that's hoping for similar success, is run by Bijayshanti Tongbram in the northeastern state of Manipur. She lives in Thanga village which is home to one of India's largest freshwater lakes, Loktak. Here lotus flowers bloom in abundance. \"People in my village use the petals of lotus flowers for religious offerings. But their stems often go to waste and that's what I wanted to change and thought of doing something sustainable,\" she says. A botanist by profession, Ms Tongbram developed a way to extract silk-like fibres from the lotus stems and now leads a team of 30 women in her village who spin the threads into a yarn and weaves them into unique scarves and garments. \"It takes two months, and 9,000 lotus stems to make one scarf,\" she says. Ms Tongbram pays the women $80 a month. \"This isn't just about fashion. I am giving women in my village a chance to do something other than fishing and earn money,\" she says. Like many small business owners, she wants to scale-up and find new markets, perhaps overseas. \"Funding is the biggest challenge,\" she says.\n",
      "EN\n",
      "END\n",
      "\n",
      "Paste article #5:\n",
      "India's colonial past revealed through 200 masterful paintings Founded in 1600 as a trading enterprise, the English East India Company gradually transformed into a colonial power. By the late 18th Century, as it tightened its grip on India, Company officials began commissioning Indian artists - many formerly employed by the Mughals - to create striking visual records of the land they were now ruling. A Treasury of Life: Indian Company Paintings, c. 1790 to 1835, an ongoing show in the Indian capital put together by DAG, an art gallery in Delhi, features over 200 works that once lay on the margins of mainstream art history. It is India's largest exhibition of Company paintings, highlighting their rich diversity and the skill of Indian artists. Painted by largely unnamed artists, these paintings covered a wide range of subjects, but mainly fall into three categories: natural history, like botanical studies; architecture, including monuments and scenic views of towns and landscapes; and Indian manners and customs. \"The focus on these three subject areas reflects European engagements with their Indian environment in an attempt to come to terms with all that was unfamiliar to Western eyes,\" says Giles Tillotson of DAG, who curated the show. \"Europeans living in India were delighted to encounter flora and fauna that were new to them, and ancient buildings in exotic styles. They met – or at least observed – multitudes of people whose dress and habits were strange but – as they began to discern – were linked to stream of religious belief and social practice.\" Beyond natural history, India's architectural heritage captivated European visitors. Before photography, paintings were the best way to document travels, and iconic Mughal monuments became prime subjects. Patrons soon turned to skilled local artists. Beyond the Taj Mahal, popular subjects included Agra Fort, Jama Masjid, Buland Darwaza, Sheikh Salim Chishti's tomb at Fatehpur Sikri (above), and Delhi's Qutub Minar and Humayun's Tomb. The once-obscure and long-anonymous Indian artist Sita Ram, who painted the tomb, was one of them. From June 1814 to early October 1815, Sita Ram travelled extensively with Francis Rawdon, also known as the Marquess of Hastings, who had been appointed as the governor general in India in 1813 and held the position for a decade. (He is not to be confused with Warren Hastings, who served as India's first governor general much earlier.) The largest group in this collection is a set of botanical watercolours, likely from Murshidabad or Maidapur (in present-day West Bengal). While Murshidabad was the Nawab of Bengal's capital, the East India Company operated there. In the late 18th century, nearby Maidapur briefly served as a British base before Calcutta's (now Kolkata) rise eclipsed it. Originally part of the Louisa Parlby Album - named after the British woman who compiled it while her husband, Colonel James Parlby, served in Bengal - the works likely date to the late 18th Century, before Louisa's return to Britain in 1801. \"The plants represented in the paintings are likely quite illustrative of what could be found growing in both the well-appointed gardens as well as the more marginal spaces of common greens, waysides and fields in the Murshidabad area during the late eighteenth century,\" writes Nicolas Roth of Harvard University. \"These are familiar plants, domestic and domesticated, which helped constitute local life worlds and systems of meaning, even as European patrons may have seen them mainly as exotica to be collected.\" Another painting from the collection is of a temple procession showing a Shiva statue on an ornate platform carried by men, flanked by Brahmins and trumpeters. At the front, dancers with sticks perform under a temporary gateway, while holy water is poured on them from above. Labeled Ouricaty Tirounal, it depicts a ritual from Thirunallar temple in Karaikal in southern India, capturing a rare moment from a 200-year-old tradition.\n",
      "END\n"
     ]
    }
   ],
   "source": [
    "articles = []\n",
    "print(\"Please paste 5 long news articles one by one. After pasting each article, type 'END' on a new line.\")\n",
    "\n",
    "for i in range(1, 6):\n",
    "    print(f\"\\nPaste article #{i}:\")\n",
    "    lines = []\n",
    "    while True:\n",
    "        line = input()\n",
    "        if line.strip() == \"END\":\n",
    "            break\n",
    "        lines.append(line)\n",
    "    article_text = \"\\n\".join(lines)\n",
    "    articles.append(article_text)"
   ]
  },
  {
   "cell_type": "code",
   "execution_count": null,
   "metadata": {
    "colab": {
     "base_uri": "https://localhost:8080/"
    },
    "id": "Rv-U1OAETMTO",
    "outputId": "08ece51c-2d9a-496f-c12f-fa4e4e4bef07"
   },
   "outputs": [
    {
     "name": "stdout",
     "output_type": "stream",
     "text": [
      "\n",
      "Processing Article #1...\n",
      "Prompt: Summarize the given news article in 3–4 complete and well-structured sentences suitable for a college-level analysis. Ensure the summary includes the main idea, key developments or events, and any significant outcomes or implications. Use formal language and avoid vague phrasing. The summary should reflect a clear understanding of the topic and provide enough context for readers unfamiliar with the article.\n",
      "Summary:\n",
      "N Nvidia will launch a new artificial intelligence chipset for China at a significantly lower price than its recently restricted H20 model. The new chip is expected to be priced between $6,500 and $8,000, well below the $10,000-$12,000 the H20 sold for. It will be based on Nvidia’s RTX Pro 6000D, a server-class graphics processor.\n",
      "\n",
      "ROUGE-1 F1: 0.1854, ROUGE-2 F1: 0.1738, ROUGE-L F1: 0.1793\n",
      "------------------------------------------------------------\n",
      "Prompt: Briefly summarize the following news article in 1–2 concise sentences. Ensure the summary captures the main point or event and includes the most important facts or developments. Additionally, provide 2–3 key bullet points highlighting critical details such as names, dates, statistics, decisions, or consequences mentioned in the article. The summary should be easy to understand for someone unfamiliar with the topic, and the bullet points should emphasize the most relevant information without repeating the summary.\n",
      "Summary:\n",
      "N Nvidia will launch a new artificial intelligence chipset for China at a significantly lower price than its recently restricted H20 model. The chip is expected to be priced between $6,500 and $8,000, well below the $10,000-$12,000 the H20 sold for. It will be based on Nvidia’s RTX Pro 6000D, a server-class\n",
      "\n",
      "ROUGE-1 F1: 0.1771, ROUGE-2 F1: 0.1623, ROUGE-L F1: 0.1740\n",
      "------------------------------------------------------------\n",
      "Prompt: Write a comprehensive and detailed summary of the article, consisting of 5 to 7 well-structured sentences. Focus on highlighting the key facts, main events, and important figures or organizations involved. Be sure to explain the context of the news clearly, including any background information necessary to understand the topic. Provide a clear and informative explanation of why the news is important, what its potential impact might be, and how it relates to current trends or issues. Avoid vague statements and aim to convey the core message of the article in a concise but thorough manner. Make the summary easy to understand for someone who has no prior knowledge of the topic.\n",
      "Summary:\n",
      "N Nvidia will launch a new artificial intelligence chipset for China at a significantly lower price than its recently restricted H20 model. The company plans to start mass production as early as June, sources familiar with the matter said. The lower price reflects its weaker specifications and simpler manufacturing requirements. It will be based on Nvidia’s RTX Pro 6000D, a server-class graphics processor and will use conventional GDDR7 memory instead of more advanced high bandwidth memory. It is the third time that Nvidia has had to tailor a GPU for the world's second-largest economy after restrictions from U.S. authorities.\n",
      "\n",
      "ROUGE-1 F1: 0.2943, ROUGE-2 F1: 0.2779, ROUGE-L F1: 0.2857\n",
      "------------------------------------------------------------\n",
      "\n",
      "Processing Article #2...\n",
      "Prompt: Summarize the given news article in 3–4 complete and well-structured sentences suitable for a college-level analysis. Ensure the summary includes the main idea, key developments or events, and any significant outcomes or implications. Use formal language and avoid vague phrasing. The summary should reflect a clear understanding of the topic and provide enough context for readers unfamiliar with the article.\n",
      "Summary:\n",
      "India has launched a series of strikes on sites in Pakistan and Pakistan-administered Kashmir. Pakistan's military said 31 people were killed and 57 injured in the strikes. India's army said at least 15 civilians were killed by Pakistani shelling. Comes after weeks of rising tension between the nuclear-armed neighbours over the shootings in the picturesque resort town of Pahalgam.\n",
      "\n",
      "ROUGE-1 F1: 0.1609, ROUGE-2 F1: 0.1460, ROUGE-L F1: 0.1609\n",
      "------------------------------------------------------------\n",
      "Prompt: Briefly summarize the following news article in 1–2 concise sentences. Ensure the summary captures the main point or event and includes the most important facts or developments. Additionally, provide 2–3 key bullet points highlighting critical details such as names, dates, statistics, decisions, or consequences mentioned in the article. The summary should be easy to understand for someone unfamiliar with the topic, and the bullet points should emphasize the most relevant information without repeating the summary.\n",
      "Summary:\n",
      "India has launched a series of strikes on sites in Pakistan and Pakistan-administered Kashmir. Pakistan's military said at least 31 people were killed and 57 injured in the strikes. The strikes come after weeks of rising tension between the nuclear-armed neighbours over the shootings in the picturesque resort town of Pahalgam.\n",
      "\n",
      "ROUGE-1 F1: 0.1395, ROUGE-2 F1: 0.1321, ROUGE-L F1: 0.1395\n",
      "------------------------------------------------------------\n",
      "Prompt: Write a comprehensive and detailed summary of the article, consisting of 5 to 7 well-structured sentences. Focus on highlighting the key facts, main events, and important figures or organizations involved. Be sure to explain the context of the news clearly, including any background information necessary to understand the topic. Provide a clear and informative explanation of why the news is important, what its potential impact might be, and how it relates to current trends or issues. Avoid vague statements and aim to convey the core message of the article in a concise but thorough manner. Make the summary easy to understand for someone who has no prior knowledge of the topic.\n",
      "Summary:\n",
      "India has launched a series of strikes on sites in Pakistan and Pakistan-administered Kashmir. Pakistan's military said at least 31 people were killed and 57 injured in the strikes. India said the strikes were part of a \"commitment\" to hold \"accountable\" those responsible for the 22 April attack in Pahalgam. But Pakistan, which has denied any involvement in that attack, described the strikes as \"unprovoked\" The strikes come after weeks of rising tension between the nuclear-armed neighbours over the shootings.\n",
      "\n",
      "ROUGE-1 F1: 0.2067, ROUGE-2 F1: 0.1923, ROUGE-L F1: 0.1669\n",
      "------------------------------------------------------------\n",
      "\n",
      "Processing Article #3...\n",
      "Prompt: Summarize the given news article in 3–4 complete and well-structured sentences suitable for a college-level analysis. Ensure the summary includes the main idea, key developments or events, and any significant outcomes or implications. Use formal language and avoid vague phrasing. The summary should reflect a clear understanding of the topic and provide enough context for readers unfamiliar with the article.\n",
      "Summary:\n",
      "Boulter only made her debut at Roland Garros last year, despite being seeded as a result of her ability on hard and grass courts. The 23-year-old from Edinburgh was ranked outside of the world's top 500 just 12 months ago but has risen rapidly up the rankings. Fearnley has now won on his main draw debut at each of the three Grand Slams he has featured at so far.\n",
      "\n",
      "ROUGE-1 F1: 0.2159, ROUGE-2 F1: 0.2105, ROUGE-L F1: 0.2159\n",
      "------------------------------------------------------------\n",
      "Prompt: Briefly summarize the following news article in 1–2 concise sentences. Ensure the summary captures the main point or event and includes the most important facts or developments. Additionally, provide 2–3 key bullet points highlighting critical details such as names, dates, statistics, decisions, or consequences mentioned in the article. The summary should be easy to understand for someone unfamiliar with the topic, and the bullet points should emphasize the most relevant information without repeating the summary.\n",
      "Summary:\n",
      "Boulter only made her debut at Roland Garros last year, despite being seeded as a result of her ability on hard and grass courts. She dropped down to the second-tier of the WTA Tour and was rewarded with a maiden clay title in the French capital. Fearnley, meanwhile, had never played an ATP Tour match on clay before this year.\n",
      "\n",
      "ROUGE-1 F1: 0.1860, ROUGE-2 F1: 0.1774, ROUGE-L F1: 0.1860\n",
      "------------------------------------------------------------\n",
      "Prompt: Write a comprehensive and detailed summary of the article, consisting of 5 to 7 well-structured sentences. Focus on highlighting the key facts, main events, and important figures or organizations involved. Be sure to explain the context of the news clearly, including any background information necessary to understand the topic. Provide a clear and informative explanation of why the news is important, what its potential impact might be, and how it relates to current trends or issues. Avoid vague statements and aim to convey the core message of the article in a concise but thorough manner. Make the summary easy to understand for someone who has no prior knowledge of the topic.\n",
      "Summary:\n",
      "Boulter only made her debut at Roland Garros last year, despite being seeded as a result of her ability on hard and grass courts. Fearnley has now won on his main draw debut at each of the three Grand Slams he has featured at so far. The 23-year-old from Edinburgh was ranked outside of the world's top 500 just 12 months ago but has risen rapidly up the rankings to a career-high of 55. Boulter started to play more freely after a scrappy start and her greater quality was too much for her inexperienced opponent.\n",
      "\n",
      "ROUGE-1 F1: 0.2853, ROUGE-2 F1: 0.2746, ROUGE-L F1: 0.1960\n",
      "------------------------------------------------------------\n",
      "\n",
      "Processing Article #4...\n",
      "Prompt: Summarize the given news article in 3–4 complete and well-structured sentences suitable for a college-level analysis. Ensure the summary includes the main idea, key developments or events, and any significant outcomes or implications. Use formal language and avoid vague phrasing. The summary should reflect a clear understanding of the topic and provide enough context for readers unfamiliar with the article.\n",
      "Summary:\n",
      "A natural disaster marked the turning point for Mr Prajapati. He decided to make a fridge out of clay that doesn't need electricity. It took four years of tinkering to come up with a design that worked. At $95 its now sold through 300 stores in India and exported to countries.\n",
      "\n",
      "ROUGE-1 F1: 0.1612, ROUGE-2 F1: 0.1431, ROUGE-L F1: 0.1581\n",
      "------------------------------------------------------------\n",
      "Prompt: Briefly summarize the following news article in 1–2 concise sentences. Ensure the summary captures the main point or event and includes the most important facts or developments. Additionally, provide 2–3 key bullet points highlighting critical details such as names, dates, statistics, decisions, or consequences mentioned in the article. The summary should be easy to understand for someone unfamiliar with the topic, and the bullet points should emphasize the most relevant information without repeating the summary.\n",
      "Summary:\n",
      "A devastating earthquake that hit Gujarat in 2001 destroyed his family home. He decided to make a fridge out of clay that doesn't need electricity. MittiCool is now sold through 300 stores in India and exported to UK, Kenya, UAE.\n",
      "\n",
      "ROUGE-1 F1: 0.1293, ROUGE-2 F1: 0.1013, ROUGE-L F1: 0.1230\n",
      "------------------------------------------------------------\n",
      "Prompt: Write a comprehensive and detailed summary of the article, consisting of 5 to 7 well-structured sentences. Focus on highlighting the key facts, main events, and important figures or organizations involved. Be sure to explain the context of the news clearly, including any background information necessary to understand the topic. Provide a clear and informative explanation of why the news is important, what its potential impact might be, and how it relates to current trends or issues. Avoid vague statements and aim to convey the core message of the article in a concise but thorough manner. Make the summary easy to understand for someone who has no prior knowledge of the topic.\n",
      "Summary:\n",
      "A devastating earthquake that hit Gujarat in 2001 destroyed his family home. He decided to make a fridge out of clay that doesn't need electricity. MittiCool can keep fruit and vegetables fresh for at least five days - no electricity needed. At $95 its affordable and now sold through 300 stores in India and exported to countries including the UK, Kenya, and UAE. Many of these innovators don't have formal education but are solving real world problems, says Prof Anil Gupta who runs the Honeybee Network.\n",
      "\n",
      "ROUGE-1 F1: 0.2559, ROUGE-2 F1: 0.2301, ROUGE-L F1: 0.2353\n",
      "------------------------------------------------------------\n",
      "\n",
      "Processing Article #5...\n",
      "Prompt: Summarize the given news article in 3–4 complete and well-structured sentences suitable for a college-level analysis. Ensure the summary includes the main idea, key developments or events, and any significant outcomes or implications. Use formal language and avoid vague phrasing. The summary should reflect a clear understanding of the topic and provide enough context for readers unfamiliar with the article.\n",
      "Summary:\n",
      "A Treasury of Life: Indian Company Paintings, c. 1790 to 1835, features over 200 works that once lay on the margins of mainstream art history. It is India's largest exhibition of Company paintings, highlighting their rich diversity and the skill of Indian artists. The paintings covered a wide range of subjects, but mainly fall into three categories: natural history, architecture and Indian manners and customs.\n",
      "\n",
      "ROUGE-1 F1: 0.1854, ROUGE-2 F1: 0.1718, ROUGE-L F1: 0.1826\n",
      "------------------------------------------------------------\n",
      "Prompt: Briefly summarize the following news article in 1–2 concise sentences. Ensure the summary captures the main point or event and includes the most important facts or developments. Additionally, provide 2–3 key bullet points highlighting critical details such as names, dates, statistics, decisions, or consequences mentioned in the article. The summary should be easy to understand for someone unfamiliar with the topic, and the bullet points should emphasize the most relevant information without repeating the summary.\n",
      "Summary:\n",
      "A Treasury of Life: Indian Company Paintings, c. 1790 to 1835 is an ongoing show in the Indian capital put together by DAG, an art gallery in Delhi. It is India's largest exhibition of Company paintings, highlighting their rich diversity and the skill of Indian artists. Popular subjects included Agra Fort, Jama Masjid, Buland Darwaza, Sheikh\n",
      "\n",
      "ROUGE-1 F1: 0.1622, ROUGE-2 F1: 0.1484, ROUGE-L F1: 0.1593\n",
      "------------------------------------------------------------\n",
      "Prompt: Write a comprehensive and detailed summary of the article, consisting of 5 to 7 well-structured sentences. Focus on highlighting the key facts, main events, and important figures or organizations involved. Be sure to explain the context of the news clearly, including any background information necessary to understand the topic. Provide a clear and informative explanation of why the news is important, what its potential impact might be, and how it relates to current trends or issues. Avoid vague statements and aim to convey the core message of the article in a concise but thorough manner. Make the summary easy to understand for someone who has no prior knowledge of the topic.\n",
      "Summary:\n",
      "A Treasury of Life: Indian Company Paintings, c. 1790 to 1835, features over 200 works that once lay on the margins of mainstream art history. Painted by largely unnamed artists, these paintings covered a wide range of subjects, but mainly fall into three categories: natural history, botanical studies and architecture. The largest group in this collection is a set of botanical watercolours, likely from Murshidabad or Maidapur (in present-day West Bengal)\n",
      "\n",
      "ROUGE-1 F1: 0.2006, ROUGE-2 F1: 0.1816, ROUGE-L F1: 0.2006\n",
      "------------------------------------------------------------\n"
     ]
    }
   ],
   "source": [
    "# Define prompt templates for zero-shot summarization variations\n",
    "prompt_templates = [\n",
    "    {\"prompt\": \"Summarize the given news article in 3–4 complete and well-structured sentences suitable for a college-level analysis. Ensure the summary includes the main idea, key developments or events, and any significant outcomes or implications. Use formal language and avoid vague phrasing. The summary should reflect a clear understanding of the topic and provide enough context for readers unfamiliar with the article.\", \"max_length\": 100, \"min_length\": 60},\n",
    "    {\"prompt\": \"Briefly summarize the following news article in 1–2 concise sentences. Ensure the summary captures the main point or event and includes the most important facts or developments. Additionally, provide 2–3 key bullet points highlighting critical details such as names, dates, statistics, decisions, or consequences mentioned in the article. The summary should be easy to understand for someone unfamiliar with the topic, and the bullet points should emphasize the most relevant information without repeating the summary.\", \"max_length\": 80, \"min_length\": 40},\n",
    "    {\"prompt\": \"Write a comprehensive and detailed summary of the article, consisting of 5 to 7 well-structured sentences. Focus on highlighting the key facts, main events, and important figures or organizations involved. Be sure to explain the context of the news clearly, including any background information necessary to understand the topic. Provide a clear and informative explanation of why the news is important, what its potential impact might be, and how it relates to current trends or issues. Avoid vague statements and aim to convey the core message of the article in a concise but thorough manner. Make the summary easy to understand for someone who has no prior knowledge of the topic.\", \"max_length\": 150, \"min_length\": 100},\n",
    "]\n",
    "\n",
    "from transformers import AutoTokenizer\n",
    "\n",
    "tokenizer = AutoTokenizer.from_pretrained(\"facebook/bart-large-cnn\")\n",
    "\n",
    "results = []\n",
    "\n",
    "for idx, text in enumerate(articles, 1):\n",
    "    print(f\"\\nProcessing Article #{idx}...\")\n",
    "    for pt in prompt_templates:\n",
    "        input_text = pt['prompt'] + \"\\n\\n\" + text\n",
    "\n",
    "        # Truncate input to fit within model's token limit\n",
    "        inputs = tokenizer.encode(input_text, return_tensors=\"pt\", truncation=True, max_length=1024)\n",
    "        decoded_input = tokenizer.decode(inputs[0], skip_special_tokens=True)\n",
    "\n",
    "        summary = summarizer(decoded_input, max_length=pt['max_length'], min_length=pt['min_length'], do_sample=False)[0]['summary_text']\n",
    "        scores = scorer.score(text, summary)\n",
    "\n",
    "        results.append({\n",
    "            \"article_num\": idx,\n",
    "            \"prompt\": pt['prompt'],\n",
    "            \"max_length\": pt['max_length'],\n",
    "            \"min_length\": pt['min_length'],\n",
    "            \"summary\": summary,\n",
    "            \"rouge1_f1\": scores['rouge1'].fmeasure,\n",
    "            \"rouge2_f1\": scores['rouge2'].fmeasure,\n",
    "            \"rougeL_f1\": scores['rougeL'].fmeasure\n",
    "        })\n",
    "\n",
    "        print(f\"Prompt: {pt['prompt']}\")\n",
    "        print(f\"Summary:\\n{summary}\\n\")\n",
    "        print(f\"ROUGE-1 F1: {scores['rouge1'].fmeasure:.4f}, ROUGE-2 F1: {scores['rouge2'].fmeasure:.4f}, ROUGE-L F1: {scores['rougeL'].fmeasure:.4f}\")\n",
    "        print(\"-\" * 60)\n"
   ]
  },
  {
   "cell_type": "code",
   "execution_count": null,
   "metadata": {
    "colab": {
     "base_uri": "https://localhost:8080/"
    },
    "id": "A5d56Q91U8Gd",
    "outputId": "f3df5ad0-1393-43b0-e7ac-ac255d9c00ac"
   },
   "outputs": [
    {
     "name": "stdout",
     "output_type": "stream",
     "text": [
      "\n",
      "Saved all summaries and ROUGE scores to 'zero_shot_summarization_results.csv'\n"
     ]
    }
   ],
   "source": [
    "df = pd.DataFrame(results)\n",
    "df.to_csv(\"zero_shot_summarization_results.csv\", index=False)\n",
    "print(\"\\nSaved all summaries and ROUGE scores to 'zero_shot_summarization_results.csv'\")\n"
   ]
  }
 ],
 "metadata": {
  "colab": {
   "provenance": []
  },
  "kernelspec": {
   "display_name": "Python 3",
   "name": "python3"
  },
  "language_info": {
   "name": "python"
  }
 },
 "nbformat": 4,
 "nbformat_minor": 0
}
